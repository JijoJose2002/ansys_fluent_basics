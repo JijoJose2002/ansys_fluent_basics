{
 "cells": [
  {
   "cell_type": "code",
   "execution_count": 1,
   "id": "2ceb5130",
   "metadata": {},
   "outputs": [],
   "source": [
    "import ansys.fluent.core as pyfluent\n",
    "\n",
    "from ansys.fluent.visualization import set_config\n",
    "from ansys.fluent.visualization.matplotlib import Plots\n",
    "from ansys.fluent.visualization.pyvista import Graphics\n",
    "\n"
   ]
  },
  {
   "cell_type": "code",
   "execution_count": 2,
   "id": "19decbc7",
   "metadata": {},
   "outputs": [],
   "source": [
    "set_config(blocking=True, set_view_on_display=\"isometric\")"
   ]
  },
  {
   "cell_type": "code",
   "execution_count": 3,
   "id": "6dccf065",
   "metadata": {},
   "outputs": [],
   "source": [
    "%matplotlib notebook"
   ]
  },
  {
   "cell_type": "code",
   "execution_count": 4,
   "id": "af87d695",
   "metadata": {},
   "outputs": [],
   "source": [
    "\n",
    "solver_session = pyfluent.launch_fluent(precision = \"double\" , processor_count= 2, mode = \"solver\" , show_gui = False)"
   ]
  },
  {
   "cell_type": "code",
   "execution_count": 5,
   "id": "fa073272",
   "metadata": {},
   "outputs": [
    {
     "name": "stdout",
     "output_type": "stream",
     "text": [
      "Fast-loading \"C:\\PROGRA~1\\ANSYSI~1\\ANSYS Student\\v231\\fluent\\fluent23.1.0\\\\addons\\afd\\lib\\hdfio.bin\"\n",
      "Done.\n",
      "Multicore SMT processors detected. Processor affinity set!\n",
      "\n",
      "Reading from Jijo_Jose:\"C:\\Users\\Jijo Jose\\Desktop\\Jijo\\CAD\\Python-CFD\\Static Mixer.cas.h5\" in NODE0 mode ...\n",
      "  Reading mesh ...\n",
      "       23168 cells,     1 cell zone  ...\n",
      "          23168 polyhedra cells,  zone id: 98\n",
      "      121813 faces,     5 face zones ...\n",
      "         117627 polygonal interior faces,  zone id: 97\n",
      "           3878 polygonal wall faces,  zone id: 20\n",
      "            102 polygonal pressure-outlet faces,  zone id: 19\n",
      "            104 polygonal velocity-inlet faces,  zone id: 18\n",
      "            102 polygonal velocity-inlet faces,  zone id: 17\n",
      "       91870 nodes,     1 node zone  ...\n",
      "  Done.\n",
      "\n",
      "\n",
      "Building...\n",
      "     mesh\n",
      "\tdistributing mesh\n",
      "\t\tparts..,\n",
      "\t\tfaces..,\n",
      "\t\tnodes..,\n",
      "\t\tcells..,\n",
      "        bandwidth reduction using Reverse Cuthill-McKee: 11016/809 = 13.6168\n",
      "     materials,\n",
      "     interface,\n",
      "     domains,\n",
      "\tmixture\n",
      "     zones,\n",
      "\tinterior--fluid_domain\n",
      "\twall\n",
      "\tpressure_outlet\n",
      "\tvelocity_inlet_2\n",
      "\tvelocity_inlet_1\n",
      "\tfluid_domain\n",
      "     parallel,\n",
      "Done.\n",
      "\n",
      "Reading from Jijo_Jose:\"C:\\Users\\Jijo Jose\\Desktop\\Jijo\\CAD\\Python-CFD\\Static Mixer.dat.h5\" in NODE0 mode ...\n",
      "\n",
      "\n",
      "  Reading results.\n",
      "Parallel variables...\n",
      "Done.\n"
     ]
    },
    {
     "data": {
      "text/plain": [
       "'*cx-overwrite-prompt?*'"
      ]
     },
     "execution_count": 5,
     "metadata": {},
     "output_type": "execute_result"
    }
   ],
   "source": [
    "\n",
    "solver_session.file.read_case_data(file_name=\"Static Mixer.cas.h5\")"
   ]
  },
  {
   "cell_type": "code",
   "execution_count": null,
   "id": "2e9bfc77",
   "metadata": {},
   "outputs": [],
   "source": []
  }
 ],
 "metadata": {
  "kernelspec": {
   "display_name": "Python 3 (ipykernel)",
   "language": "python",
   "name": "python3"
  },
  "language_info": {
   "codemirror_mode": {
    "name": "ipython",
    "version": 3
   },
   "file_extension": ".py",
   "mimetype": "text/x-python",
   "name": "python",
   "nbconvert_exporter": "python",
   "pygments_lexer": "ipython3",
   "version": "3.11.4"
  }
 },
 "nbformat": 4,
 "nbformat_minor": 5
}
